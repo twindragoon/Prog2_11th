{
  "nbformat": 4,
  "nbformat_minor": 0,
  "metadata": {
    "colab": {
      "provenance": [],
      "authorship_tag": "ABX9TyNuLCHnnwQLBvVlpFS9IBBF",
      "include_colab_link": true
    },
    "kernelspec": {
      "name": "python3",
      "display_name": "Python 3"
    },
    "language_info": {
      "name": "python"
    }
  },
  "cells": [
    {
      "cell_type": "markdown",
      "metadata": {
        "id": "view-in-github",
        "colab_type": "text"
      },
      "source": [
        "<a href=\"https://colab.research.google.com/github/twindragoon/Prog2_11th/blob/main/work2.ipynb\" target=\"_parent\"><img src=\"https://colab.research.google.com/assets/colab-badge.svg\" alt=\"Open In Colab\"/></a>"
      ]
    },
    {
      "cell_type": "markdown",
      "source": [
        "numpyパートでは、１～３６と０，００があるルーレットでの一つの内部操作の仕組みをプログラミングで表現することにしました。\n",
        "\n",
        "> 今回採用した仕組みは、サインカーブと今の収支のプラスマイナスを混合させた形となっています。\n",
        "\n"
      ],
      "metadata": {
        "id": "yGcBFOih5spC"
      }
    },
    {
      "cell_type": "markdown",
      "source": [
        "今回のこのコードを扱うためのガイドをここに置きます。\n",
        "\n",
        "1.   この計画を立ててからまだ十分に時間がたっていません。よってまだ内部調整といえどもレベルが低いものとなっています。今回のはどちらかというと内部調整の仕方をコードでみなさんに伝えようというものですので、その点はご承知ください。\n",
        "2.   途中でベット枚数とベットナンバーをどうするか問われますが、**必ず「（ベット枚数）,（ベットナンバー）」**のように記入してください。\n",
        "3.   pythonの仕様上０と００が同一の数値となってしまうため、**００は100として入力**してください。\n",
        "4.   今回のコードの仕様ではここかinput文に書いてないような書式にしてしまうとpythonでエラーが出るため注意をお願いします。\n",
        "4.   まだうまく作動しないポイントもありますが、それらは自分が順次調整したいと思っているためよろしくお願いします。\n",
        "\n"
      ],
      "metadata": {
        "id": "bXUXOdq1pvgo"
      }
    },
    {
      "cell_type": "code",
      "execution_count": null,
      "metadata": {
        "colab": {
          "base_uri": "https://localhost:8080/",
          "height": 446
        },
        "id": "ivmZru40F21Y",
        "outputId": "64aba123-e1fa-4048-ad63-45427a0a24ed"
      },
      "outputs": [
        {
          "name": "stdout",
          "output_type": "stream",
          "text": [
            "対応したCSVファイルがあればここに入力し、ロードしてください：RTplays.csv\n",
            "ベット枚数、ベッドナンバーをBOTに任せますか？（１でyes）：1\n",
            "ベット枚数、ベットナンバーを順に決めてください：10,10\n",
            "何ゲーム間行いますか？：100\n"
          ]
        },
        {
          "output_type": "error",
          "ename": "ValueError",
          "evalue": "ignored",
          "traceback": [
            "\u001b[0;31m---------------------------------------------------------------------------\u001b[0m",
            "\u001b[0;31mValueError\u001b[0m                                Traceback (most recent call last)",
            "\u001b[0;32m<ipython-input-25-abef4cf45b8b>\u001b[0m in \u001b[0;36m<module>\u001b[0;34m\u001b[0m\n\u001b[1;32m     61\u001b[0m \u001b[0mgames\u001b[0m\u001b[0;34m=\u001b[0m\u001b[0mint\u001b[0m\u001b[0;34m(\u001b[0m\u001b[0minput\u001b[0m\u001b[0;34m(\u001b[0m\u001b[0;34m'何ゲーム間行いますか？：'\u001b[0m\u001b[0;34m)\u001b[0m\u001b[0;34m)\u001b[0m\u001b[0;34m\u001b[0m\u001b[0;34m\u001b[0m\u001b[0m\n\u001b[1;32m     62\u001b[0m \u001b[0mbase\u001b[0m\u001b[0;34m=\u001b[0m\u001b[0;36m0\u001b[0m\u001b[0;34m\u001b[0m\u001b[0;34m\u001b[0m\u001b[0m\n\u001b[0;32m---> 63\u001b[0;31m \u001b[0;32mif\u001b[0m \u001b[0mcsvload\u001b[0m\u001b[0;34m==\u001b[0m\u001b[0;34m''\u001b[0m \u001b[0;32mor\u001b[0m \u001b[0mcsvload\u001b[0m\u001b[0;34m.\u001b[0m\u001b[0mall\u001b[0m\u001b[0;34m(\u001b[0m\u001b[0;34m)\u001b[0m\u001b[0;34m==\u001b[0m\u001b[0;32mNone\u001b[0m\u001b[0;34m:\u001b[0m\u001b[0;34m\u001b[0m\u001b[0;34m\u001b[0m\u001b[0m\n\u001b[0m\u001b[1;32m     64\u001b[0m   \u001b[0mcsvload\u001b[0m\u001b[0;34m=\u001b[0m\u001b[0mpd\u001b[0m\u001b[0;34m.\u001b[0m\u001b[0mDataFrame\u001b[0m\u001b[0;34m(\u001b[0m\u001b[0;34m[\u001b[0m\u001b[0;34m[\u001b[0m\u001b[0;36m0\u001b[0m\u001b[0;34m,\u001b[0m\u001b[0;36m0\u001b[0m\u001b[0;34m,\u001b[0m\u001b[0;36m0\u001b[0m\u001b[0;34m,\u001b[0m\u001b[0;36m0\u001b[0m\u001b[0;34m,\u001b[0m\u001b[0;36m0\u001b[0m\u001b[0;34m]\u001b[0m\u001b[0;34m]\u001b[0m\u001b[0;34m)\u001b[0m\u001b[0;34m\u001b[0m\u001b[0;34m\u001b[0m\u001b[0m\n\u001b[1;32m     65\u001b[0m   \u001b[0mcsvload\u001b[0m\u001b[0;34m.\u001b[0m\u001b[0mcolumns\u001b[0m\u001b[0;34m=\u001b[0m\u001b[0;34m[\u001b[0m\u001b[0;34m'BET'\u001b[0m\u001b[0;34m,\u001b[0m\u001b[0;34m'ベットナンバー'\u001b[0m\u001b[0;34m,\u001b[0m\u001b[0;34m'出たナンバー'\u001b[0m\u001b[0;34m,\u001b[0m\u001b[0;34m'収支'\u001b[0m\u001b[0;34m,\u001b[0m\u001b[0;34m'回数'\u001b[0m\u001b[0;34m]\u001b[0m\u001b[0;34m\u001b[0m\u001b[0;34m\u001b[0m\u001b[0m\n",
            "\u001b[0;32m/usr/local/lib/python3.8/dist-packages/pandas/core/generic.py\u001b[0m in \u001b[0;36m__nonzero__\u001b[0;34m(self)\u001b[0m\n\u001b[1;32m   1535\u001b[0m     \u001b[0;34m@\u001b[0m\u001b[0mfinal\u001b[0m\u001b[0;34m\u001b[0m\u001b[0;34m\u001b[0m\u001b[0m\n\u001b[1;32m   1536\u001b[0m     \u001b[0;32mdef\u001b[0m \u001b[0m__nonzero__\u001b[0m\u001b[0;34m(\u001b[0m\u001b[0mself\u001b[0m\u001b[0;34m)\u001b[0m\u001b[0;34m:\u001b[0m\u001b[0;34m\u001b[0m\u001b[0;34m\u001b[0m\u001b[0m\n\u001b[0;32m-> 1537\u001b[0;31m         raise ValueError(\n\u001b[0m\u001b[1;32m   1538\u001b[0m             \u001b[0;34mf\"The truth value of a {type(self).__name__} is ambiguous. \"\u001b[0m\u001b[0;34m\u001b[0m\u001b[0;34m\u001b[0m\u001b[0m\n\u001b[1;32m   1539\u001b[0m             \u001b[0;34m\"Use a.empty, a.bool(), a.item(), a.any() or a.all().\"\u001b[0m\u001b[0;34m\u001b[0m\u001b[0;34m\u001b[0m\u001b[0m\n",
            "\u001b[0;31mValueError\u001b[0m: The truth value of a DataFrame is ambiguous. Use a.empty, a.bool(), a.item(), a.any() or a.all()."
          ]
        }
      ],
      "source": [
        "#rt\n",
        "#listrt=[1,2,3,4,5,6,7,8,9,10,11,12,13,14,15,16,17,18,19,20,21,22,23,24,25,26,27,28,29,30,31,32,33,34,35,36,0,100],100=00の代用\n",
        "import numpy as np\n",
        "from random import randint as rd\n",
        "import pandas as pd\n",
        "import sys\n",
        "def sincu(basept,a=100,T=5,t=0):\n",
        "  x=T\n",
        "  sins=np.sin((np.pi*t)/T)*a+basept\n",
        "  return sins\n",
        "def rtodds():\n",
        "  return [2,3,9,18,36]\n",
        "def rthazusi(tage,list):\n",
        "  ryou=np.random.randint(1,38)\n",
        "  #ryou=1\n",
        "  x=list.index(tage+1)\n",
        "  return list[(ryou+x)%38]\n",
        "def naibu(A,T,t,hai,base):\n",
        "  naibu_pt=sincu(base,A,T,t)\n",
        "  if naibu_pt+hai<=0:\n",
        "    tyuusenA=20 #A=あたるように仕向ける,B=純粋なルーレット,C＝必ず外れるように仕向ける\n",
        "    tyuusenB=85\n",
        "    tyuusenC=100\n",
        "  else:\n",
        "    tyuusenA=2\n",
        "    tyuusenB=20\n",
        "    tyuusenC=100\n",
        "  return tyuusenA,tyuusenB,tyuusenC #あとでこれを用いて外しモード等抽選\n",
        "def roulette(list,mynumber,bets,nowtimes,waveheight,wavetime,bbase): #こっちは１回分で行ってメインでループさせる。\n",
        "  rtnumber=rd(0,37)\n",
        "  won=bets*rtodds()[4]\n",
        "  a,b,c=naibu(waveheight,wavetime,nowtimes,won,bbase)\n",
        "  check=rd(1,100)\n",
        "  if check<=a:\n",
        "    rtnumber=mynumber\n",
        "  elif check<=b:\n",
        "    rtnumber=rtnumber\n",
        "  else:\n",
        "    rtnumber=rthazusi(mynumber,list)\n",
        "  #ここから比較\n",
        "  if rtnumber==mynumber:\n",
        "    return won,bets,rtnumber\n",
        "  else:\n",
        "    return 0,bets,rtnumber\n",
        "\n",
        "\n",
        "rtlist=[1,2,3,4,5,6,7,8,9,10,11,12,13,14,15,16,17,18,19,20,21,22,23,24,25,26,27,28,29,30,31,32,33,34,35,36,0,100]\n",
        "#print(rtlist[1])\n",
        "#print(rthazusi(1,rtlist))\n",
        "#事前準備など\n",
        "csvhave=input('対応したCSVファイルがあればここに入力し、ロードしてください：')\n",
        "csvload=''\n",
        "if csvhave!='':\n",
        "  csvload=pd.read_csv(csvhave)\n",
        "  betsint=[csvload.iloc[-1][0],csvload.iloc[-1][1]]\n",
        "\n",
        "BOTon=int(input('ベット枚数、ベッドナンバーをBOTに任せますか？（１でyes）：'))\n",
        "if BOTon==1:\n",
        "  bet=input('ベット枚数、ベットナンバーを順に決めてください：')\n",
        "  #BOTgame=int(input('何ゲーム間BOTがベットしますか？：')) #今は途中切り替え不可で、すまない\n",
        "games=int(input('何ゲーム間行いますか？：'))\n",
        "base=0\n",
        "if csvload=='' or csvload.all()==None: #ここの保存後のとこが課題か\n",
        "  csvload=pd.DataFrame([[0,0,0,0,0]])\n",
        "  csvload.columns=['BET','ベットナンバー','出たナンバー','収支','回数']\n",
        "for e in range(games):\n",
        "  if BOTon==0:\n",
        "    bet=input('ベット枚数、ベットナンバーを順に決めてください：')\n",
        "  bets=bet.split(',')\n",
        "  betsint=[int(bets[0]),int(bets[1])]\n",
        "  rt1,rt2,rt3=roulette(rtlist,betsint[1],betsint[0],e+1,10000,20,base)\n",
        "  if rt1!=0:\n",
        "    #print(f'YOU WON! {rt1}medals get!')\n",
        "    base+=rt1\n",
        "    #print(f'next base:{base}')\n",
        "  base-=betsint[0]\n",
        "  if csvhave=='':\n",
        "    csvload=csvload.append({'BET':betsint[0],'ベットナンバー':betsint[1],'出たナンバー':rt3,'収支':base,'回数':e+1},ignore_index=True)\n",
        "  else:\n",
        "    csvload=csvload.append({'BET':betsint[0],'ベットナンバー':betsint[1],'出たナンバー':rt3,'収支':base,'回数':csvload.iloc [-1][-1]},ignore_index=True)\n",
        "csvsave=int(input('この結果を一時保存しますか？（１＝yes）：'))\n",
        "if csvsave==1:\n",
        "  csvload.to_csv('RTplays.csv')\n",
        "csvload  #表を出す用\n",
        "\n"
      ]
    }
  ]
}